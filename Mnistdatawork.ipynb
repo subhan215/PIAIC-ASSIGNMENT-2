{
  "nbformat": 4,
  "nbformat_minor": 0,
  "metadata": {
    "colab": {
      "name": "Mnistdatawork.ipynb",
      "provenance": [],
      "collapsed_sections": [],
      "authorship_tag": "ABX9TyNNTT+as5HK8QUdqjDnpyoL",
      "include_colab_link": true
    },
    "kernelspec": {
      "name": "python3",
      "display_name": "Python 3"
    }
  },
  "cells": [
    {
      "cell_type": "markdown",
      "metadata": {
        "id": "view-in-github",
        "colab_type": "text"
      },
      "source": [
        "<a href=\"https://colab.research.google.com/github/subhan215/PIAIC-ASSIGNMENT-2/blob/main/Mnistdatawork.ipynb\" target=\"_parent\"><img src=\"https://colab.research.google.com/assets/colab-badge.svg\" alt=\"Open In Colab\"/></a>"
      ]
    },
    {
      "cell_type": "code",
      "metadata": {
        "id": "qup7M78KL1sQ"
      },
      "source": [
        "from tensorflow.keras.datasets import mnist\r\n",
        "(train_images , train_labels) , (test_images , test_labels) = mnist.load_data()\r\n",
        "\r\n"
      ],
      "execution_count": 6,
      "outputs": []
    },
    {
      "cell_type": "code",
      "metadata": {
        "id": "1clZ2jtJjKX6"
      },
      "source": [
        "(train_images , train_labels) , (test_images , test_labels) = mnist.load_data()"
      ],
      "execution_count": 7,
      "outputs": []
    },
    {
      "cell_type": "code",
      "metadata": {
        "id": "nuUTOVxmkHLU"
      },
      "source": [
        "#train_images[0]"
      ],
      "execution_count": 9,
      "outputs": []
    },
    {
      "cell_type": "code",
      "metadata": {
        "id": "s6N6pz5RkOmN"
      },
      "source": [
        "#train_images[0].ndim"
      ],
      "execution_count": 11,
      "outputs": []
    },
    {
      "cell_type": "code",
      "metadata": {
        "id": "HUdJTbIBkV-r"
      },
      "source": [
        "#train_images[0].shape"
      ],
      "execution_count": 16,
      "outputs": []
    },
    {
      "cell_type": "code",
      "metadata": {
        "id": "fnuTIdK2kapR"
      },
      "source": [
        "#train_images.shape"
      ],
      "execution_count": 14,
      "outputs": []
    },
    {
      "cell_type": "code",
      "metadata": {
        "colab": {
          "base_uri": "https://localhost:8080/"
        },
        "id": "nb2bi645kgbD",
        "outputId": "5bd2f858-9a0d-428e-a0fd-850d2f23be5b"
      },
      "source": [
        "#test_images.shape"
      ],
      "execution_count": 17,
      "outputs": [
        {
          "output_type": "execute_result",
          "data": {
            "text/plain": [
              "(10000, 28, 28)"
            ]
          },
          "metadata": {
            "tags": []
          },
          "execution_count": 17
        }
      ]
    },
    {
      "cell_type": "code",
      "metadata": {
        "colab": {
          "base_uri": "https://localhost:8080/"
        },
        "id": "p_2uKgjIkbu6",
        "outputId": "c13e1922-9bac-4ce9-92b7-145870a1070e"
      },
      "source": [
        "train_labels[0]"
      ],
      "execution_count": 18,
      "outputs": [
        {
          "output_type": "execute_result",
          "data": {
            "text/plain": [
              "5"
            ]
          },
          "metadata": {
            "tags": []
          },
          "execution_count": 18
        }
      ]
    },
    {
      "cell_type": "markdown",
      "metadata": {
        "id": "IaRiLbRHmxPQ"
      },
      "source": [
        "## The Network Architecture"
      ]
    },
    {
      "cell_type": "code",
      "metadata": {
        "id": "T3ejvlNfnBPp"
      },
      "source": [
        "from tensorflow.keras import models\r\n",
        "from tensorflow.keras import layers\r\n",
        "\r\n",
        "network = models.Sequential()\r\n",
        "network.add(layers.Dense(512 , activation = 'relu', input_shape = (28 * 28 ,)))\r\n",
        "network.add(layers.Dense(10 , activation = 'softmax'))"
      ],
      "execution_count": 24,
      "outputs": []
    }
  ]
}